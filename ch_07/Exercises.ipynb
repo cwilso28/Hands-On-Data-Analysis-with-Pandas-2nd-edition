{
 "cells": [
  {
   "cell_type": "code",
   "execution_count": 2,
   "id": "16d66ade",
   "metadata": {},
   "outputs": [],
   "source": [
    "import pandas as pd\n",
    "import numpy as np\n",
    "import stock_analysis\n",
    "import matplotlib.pyplot as plt\n",
    "import yfinance as yfin\n",
    "import pandas_datareader.data as web\n",
    "from stock_analysis.utils import label_sanitizer\n",
    "from datetime import datetime"
   ]
  },
  {
   "cell_type": "code",
   "execution_count": null,
   "id": "84bf0e41",
   "metadata": {},
   "outputs": [],
   "source": [
    "yfin.pdr_override()"
   ]
  },
  {
   "cell_type": "code",
   "execution_count": null,
   "id": "e4ebd880",
   "metadata": {},
   "outputs": [],
   "source": [
    "fb, aapl, amzn, nflx, goog, bitcoin, sp500 = (pd.read_csv('./data/' + ticker, parse_dates = True).assign(date = lambda x: pd.to_datetime(x.date, format = '%Y-%m-%d')).set_index('date') \n",
    "                              for ticker in ['facebook.csv', 'apple.csv', 'amazon.csv', 'netflix.csv', 'google.csv', 'bitcoin.csv', 'sp500.csv']\n",
    "                             )"
   ]
  },
  {
   "cell_type": "code",
   "execution_count": null,
   "id": "7ba54e82",
   "metadata": {},
   "outputs": [],
   "source": [
    "stock_dict = {'Facebook': fb, 'Apple':aapl, 'Amazon': amzn, 'Netflix':nflx, 'Google': goog}\n",
    "faang = stock_analysis.utils.group_stocks(stock_dict)"
   ]
  },
  {
   "cell_type": "code",
   "execution_count": null,
   "id": "8e84458e",
   "metadata": {},
   "outputs": [],
   "source": [
    "sp500_reindexed = sp500.reindex(bitcoin.index).assign(\n",
    "    volume = lambda x: x.volume.fillna(0),\n",
    "    close = lambda x: x.close.fillna(method = 'ffill'),\n",
    "    open = lambda x: np.where(x.open.isnull(), x.close, x.open),\n",
    "    high = lambda x: np.where(x.high.isnull(), x.close, x.high),\n",
    "    low = lambda x: np.where(x.low.isnull(), x.close, x.low)\n",
    ")"
   ]
  },
  {
   "cell_type": "markdown",
   "id": "ec466a74",
   "metadata": {},
   "source": [
    "start, end = '2019-01-01', '2020-12-31'\n",
    "sp500_reindexed = sp500.reindex(pd.date_range(start, end=end, freq='D')).assign(\n",
    "    volume = lambda x: x.volume.fillna(0),\n",
    "    close = lambda x: x.close.fillna(method = 'ffill'),\n",
    "    open = lambda x: x.open.combine_first(x.close),\n",
    "    high = lambda x: x.high.combine_first(x.close),\n",
    "    low = lambda x: x.low.combine_first(x.close)\n",
    ")"
   ]
  },
  {
   "cell_type": "code",
   "execution_count": null,
   "id": "94e8daab",
   "metadata": {},
   "outputs": [],
   "source": [
    "bitcoin_sp500 = stock_analysis.utils.group_stocks({'Bitcoin': bitcoin, 'S&P500':sp500_reindexed})"
   ]
  },
  {
   "cell_type": "markdown",
   "id": "ccf33950",
   "metadata": {},
   "source": [
    "# Chapter 7 Exercises"
   ]
  },
  {
   "cell_type": "markdown",
   "id": "9b676bc3",
   "metadata": {},
   "source": [
    "1. Using the `StockAnalyzer` and `StockVisualizer` classes, calculate and plot three levels of support and resistance for Netflix's closing price."
   ]
  },
  {
   "cell_type": "code",
   "execution_count": null,
   "id": "616dc342",
   "metadata": {},
   "outputs": [],
   "source": [
    "nflx_viz = stock_analysis.StockVisualizer(nflx)\n",
    "nflx_analyze = stock_analysis.StockAnalyzer(nflx)\n",
    "\n",
    "ax = nflx_viz.evolution_over_time('close')\n",
    "\n",
    "support_levels = [nflx_analyze.support(level) for level in range(1,4)]\n",
    "resistance_levels = [nflx_analyze.resistance(level) for level in range(1,4)]\n",
    "line = [':', '-.', '--']\n",
    "\n",
    "for (support, resist, line) in zip(support_levels, resistance_levels, line):\n",
    "    nflx_viz.add_reference_line(ax, y = support, linestyle = line, color = 'green')\n",
    "    nflx_viz.add_reference_line(ax, y = resist, linestyle = line, color = 'red')\n"
   ]
  },
  {
   "cell_type": "markdown",
   "id": "100a3d3d",
   "metadata": {},
   "source": [
    "2. With the `StockVisualizer` class, look at the effect of after-hours trading on the FAANG stocks:\n",
    "   1. As individual stocks\n",
    "   2. As a portfolio using the `make_portfolio()` function from the `stock_analysis.utils` module"
   ]
  },
  {
   "cell_type": "code",
   "execution_count": null,
   "id": "ea8c1d94",
   "metadata": {},
   "outputs": [],
   "source": [
    "stocks = [fb, aapl, amzn, nflx, goog]\n",
    "stock_label = ['Facebook', 'Apple', 'Amazon', 'Netflix', 'Google']\n",
    "\n",
    "for (stock_name, ticker) in stock_dict.items():\n",
    "    ax = stock_analysis.StockVisualizer(ticker).after_hours_trades()\n",
    "    ax[0].set_title(f'After-hours trading for {stock_name}\\n(Open Price - Prior Day\\'s Close)')\n",
    "    ax[1].set_title(f'After-hours trading monthly effect for {stock_name}')"
   ]
  },
  {
   "cell_type": "code",
   "execution_count": null,
   "id": "cca8fbd2",
   "metadata": {},
   "outputs": [],
   "source": [
    "portfolio = stock_analysis.utils.make_portfolio(faang)\n",
    "faang_viz = stock_analysis.StockVisualizer(portfolio)\n",
    "ax = faang_viz.after_hours_trades()"
   ]
  },
  {
   "cell_type": "markdown",
   "id": "3e8c7708",
   "metadata": {},
   "source": [
    "3. Using the `StockVisualizer.open_to_close()` method, create a plot that fills the area between the FAANG stocks' opening price (as a portfolio) and its closing price each day in red if the price declined and in green if the price increased. As a bonus, do the same for a portfolio of bitcoin and the S&P 500."
   ]
  },
  {
   "cell_type": "code",
   "execution_count": null,
   "id": "2f2141b7",
   "metadata": {},
   "outputs": [],
   "source": [
    "ax = faang_viz.open_to_close()"
   ]
  },
  {
   "cell_type": "code",
   "execution_count": null,
   "id": "2e185c17",
   "metadata": {},
   "outputs": [],
   "source": [
    "bitcoin_sp500_portfolio = stock_analysis.utils.make_portfolio(bitcoin_sp500)\n",
    "ax = stock_analysis.StockVisualizer(bitcoin_sp500_portfolio).open_to_close()"
   ]
  },
  {
   "cell_type": "markdown",
   "id": "a78909ca",
   "metadata": {},
   "source": [
    "4. Mutual funds and **exchange-traded funds (ETFs)** are funds that are composed of many assets. They are built to mitigate risk, so volatility for the fund will be lower than that of the assets that compose it. (Information on how they differ can be found at https://www.investopedia.com/articles/exchangetradedfunds/08/etf-mutual-fund-difference.asp.) Compare a mutual fund or ETF of your choice to three of its largest stocks (by composition) using annualized volatility and the `AssetGroupAnalyzer` class."
   ]
  },
  {
   "cell_type": "code",
   "execution_count": null,
   "id": "4f401938",
   "metadata": {},
   "outputs": [],
   "source": [
    "@label_sanitizer\n",
    "def get_ticker_data_updated(ticker, start, end):\n",
    "    return web.get_data_yahoo(ticker, start, end)"
   ]
  },
  {
   "cell_type": "code",
   "execution_count": null,
   "id": "33273991",
   "metadata": {},
   "outputs": [],
   "source": [
    "ticker = 'VOO'\n",
    "voo = get_ticker_data_updated(ticker, start = '2019-01-01', end = '2020-12-31')"
   ]
  },
  {
   "cell_type": "code",
   "execution_count": null,
   "id": "7dfc3583",
   "metadata": {},
   "outputs": [],
   "source": [
    "msft = get_ticker_data_updated('MSFT', start = '2019-01-01', end = '2020-12-31')\n",
    "voo_top3 = {'VOO': voo,\n",
    "            'Apple': aapl, \n",
    "            'Microsoft': msft, \n",
    "            'Amazon': amzn\n",
    "           }\n",
    "voo_grouped = stock_analysis.utils.group_stocks(voo_top3)"
   ]
  },
  {
   "cell_type": "code",
   "execution_count": null,
   "id": "fd64d7da",
   "metadata": {},
   "outputs": [],
   "source": [
    "voo_analyzer = stock_analysis.AssetGroupAnalyzer(voo_grouped)\n",
    "voo_analyzer.analyze('annualized_volatility')"
   ]
  },
  {
   "cell_type": "markdown",
   "id": "00008bcf",
   "metadata": {},
   "source": [
    "5. Write a function that returns a dataframe of one row with columns for `alpha`, `beta`, `sharpe_ratio`, `annualized_volatility`, `is_bear_market`, and `is_bull_market`, which each contain the results of running the respective methods on a given stock using the `StockAnalyzer` class. Dictionary comprehensions and the `getattr()` function, as used in the `AssetGroupAnalyzer.analyze()` method, will be useful."
   ]
  },
  {
   "cell_type": "code",
   "execution_count": null,
   "id": "2b540b0d",
   "metadata": {},
   "outputs": [],
   "source": [
    "r_f = 0.93"
   ]
  },
  {
   "cell_type": "code",
   "execution_count": null,
   "id": "60b1969a",
   "metadata": {},
   "outputs": [],
   "source": [
    "def stock_analytics(stock):\n",
    "    stock_analyzer = stock_analysis.StockAnalyzer(stock)\n",
    "#    return {\n",
    "#        func_name: getattr(stock_analyzer, func)(**kwargs) for (func_name, func) in {'alpha': ('alpha', index=sp500, r_f=r_f)}\n",
    "#    }\n",
    "    return pd.DataFrame.from_dict({'name':'MSFT',\n",
    "                                   'alpha': [stock_analyzer.alpha(index = sp500, r_f = r_f)],\n",
    "                                   'beta': [stock_analyzer.beta(index = sp500)],\n",
    "                                   'sharpe_ratio': [stock_analyzer.sharpe_ratio(r_f = r_f)],\n",
    "                                   'annualized_volatility': [stock_analyzer.annualized_volatility()],\n",
    "                                   'is_bear_market': [stock_analyzer.is_bear_market()],\n",
    "                                   'is_bull_market': [stock_analyzer.is_bull_market()]\n",
    "                                  }\n",
    "                                 ).set_index('name')\n"
   ]
  },
  {
   "cell_type": "code",
   "execution_count": null,
   "id": "e7c97405",
   "metadata": {},
   "outputs": [],
   "source": [
    "#def stock_analytics(stock):\n",
    "#    stock_analyzer = stock_analysis.StockAnalyzer(stock)\n",
    "#    return {\n",
    "#        func_name: getattr(stock_analyzer, func)(**kwargs) for (func_name, func) in {'alpha': ('alpha', index=sp500, r_f=r_f)}\n",
    "#    }\n",
    "#    return {'alpha': getattr(stock_analyzer, ('alpha', index = sp500, r_f = r_f))}"
   ]
  },
  {
   "cell_type": "code",
   "execution_count": null,
   "id": "56fdf9ba",
   "metadata": {},
   "outputs": [],
   "source": [
    "stock_analytics(msft)"
   ]
  },
  {
   "cell_type": "markdown",
   "id": "ac5352c9",
   "metadata": {},
   "source": [
    "6. With the `StockModeler` class, build an ARIMA model fit on the S&P 500 data from January 1, 2019 through November 30, 2020 and use it to predict the performance in December 2020. Be sure to examine the residuals and compare the predicted performance to the actual performance."
   ]
  },
  {
   "cell_type": "code",
   "execution_count": null,
   "id": "96bef36e",
   "metadata": {},
   "outputs": [],
   "source": [
    "sp_arima = stock_analysis.StockModeler.arima(sp500, ar=10, i = 1, ma = 5)"
   ]
  },
  {
   "cell_type": "code",
   "execution_count": null,
   "id": "0e67905e",
   "metadata": {},
   "outputs": [],
   "source": [
    "stock_analysis.StockModeler.plot_residuals(sp_arima)"
   ]
  },
  {
   "cell_type": "code",
   "execution_count": null,
   "id": "9d45865a",
   "metadata": {},
   "outputs": [],
   "source": [
    "fig, ax = plt.subplots()\n",
    "\n",
    "arima_ax = stock_analysis.StockModeler.arima_predictions(sp500, sp_arima, start = '2019-01-02', end = '2020-12-31', ax = ax, title = 'ARIMA', color = 'b')\n",
    "sp500.close.plot(ax = arima_ax, style = 'b--', label = 'actual close')\n",
    "arima_ax.legend()\n",
    "arima_ax.set_ylabel('price ($)')"
   ]
  },
  {
   "cell_type": "markdown",
   "id": "3abb566a",
   "metadata": {},
   "source": [
    "7. Request an API key for AlphaVantage (https://www.alphavantage.co/support/#api-key) and collect the daily foreign exchange rate from USD to JPY using the `get_forex_rates()` method on the same `StockReader` object you created to collect the data for the previous exercises. Build a candlestick plot with the data from February 2019 through January 2020, resampled to 1-week intervals. Hint: take a look at the `slice()` function from the standard library (https://docs.python.org/3/library/functions.html#slice) in order to provide the date range."
   ]
  },
  {
   "cell_type": "code",
   "execution_count": 3,
   "id": "311b1d1b",
   "metadata": {},
   "outputs": [],
   "source": [
    "api_key = 'QQFTDCW4MTTCMLR1'\n",
    "usd_to_jpy = stock_analysis.StockReader('2019-01-01', '2020-12-31').get_forex_rates(from_currency = 'USD', to_currency = 'JPY', api_key = api_key)"
   ]
  },
  {
   "cell_type": "code",
   "execution_count": 4,
   "id": "7441d5c9",
   "metadata": {},
   "outputs": [],
   "source": [
    "usd_to_jpy_viz = stock_analysis.StockVisualizer(usd_to_jpy)"
   ]
  },
  {
   "cell_type": "code",
   "execution_count": 5,
   "id": "6243c43e",
   "metadata": {},
   "outputs": [
    {
     "data": {
      "image/png": "[encoded data removed]",
      "text/plain": [
       "<Figure size 800x575 with 2 Axes>"
      ]
     },
     "metadata": {},
     "output_type": "display_data"
    }
   ],
   "source": [
    "usd_to_jpy_viz.candlestick(date_range = slice('2019-02-01','2020-01-31'), resample = '1W')"
   ]
  },
  {
   "cell_type": "code",
   "execution_count": null,
   "id": "c3c4a612",
   "metadata": {},
   "outputs": [],
   "source": []
  }
 ],
 "metadata": {
  "kernelspec": {
   "display_name": "Python 3 (ipykernel)",
   "language": "python",
   "name": "python3"
  },
  "language_info": {
   "codemirror_mode": {
    "name": "ipython",
    "version": 3
   },
   "file_extension": ".py",
   "mimetype": "text/x-python",
   "name": "python",
   "nbconvert_exporter": "python",
   "pygments_lexer": "ipython3",
   "version": "3.7.3"
  }
 },
 "nbformat": 4,
 "nbformat_minor": 5
}
