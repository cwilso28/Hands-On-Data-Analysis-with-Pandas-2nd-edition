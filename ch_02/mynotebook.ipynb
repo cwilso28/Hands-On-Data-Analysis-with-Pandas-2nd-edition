{
 "cells": [
  {
   "cell_type": "markdown",
   "id": "d6fc03f9",
   "metadata": {},
   "source": [
    "## Trial code"
   ]
  },
  {
   "cell_type": "code",
   "execution_count": 2,
   "id": "1383bfa7",
   "metadata": {},
   "outputs": [
    {
     "name": "stdout",
     "output_type": "stream",
     "text": [
      "\n",
      "---------- DATA\\EARTHQUAKES.CSV: 9333\n"
     ]
    }
   ],
   "source": [
    "!find /c /v \"\" data\\earthquakes.csv"
   ]
  },
  {
   "cell_type": "code",
   "execution_count": 1,
   "id": "342c6bff",
   "metadata": {},
   "outputs": [
    {
     "name": "stdout",
     "output_type": "stream",
     "text": [
      "06/20/2022  04:17 PM         3,524,989 earthquakes.csv\n"
     ]
    }
   ],
   "source": [
    "!dir data | findstr \"earthquakes.csv\""
   ]
  },
  {
   "cell_type": "code",
   "execution_count": 9,
   "id": "3551b84d",
   "metadata": {},
   "outputs": [
    {
     "name": "stdout",
     "output_type": "stream",
     "text": [
      "alert,cdi,code,detail,dmin,felt,gap,ids,mag,magType,mmi,net,nst,place,rms,sig,sources,status,time,title,tsunami,type,types,tz,updated,url\n",
      ",,37389218,https://earthquake.usgs.gov/fdsnws/event/1/query?eventid=ci37389218&format=geojson,0.008693,,85.0,\",ci37389218,\",1.35,ml,,ci,26.0,\"9km NE of Aguanga, CA\",0.19,28,\",ci,\",automatic,1539475168010,\"M 1.4 - 9km NE of Aguanga, CA\",0,earthquake,\",geoserve,nearby-cities,origin,phase-data,\",-480.0,1539475395144,https://earthquake.usgs.gov/earthquakes/eventpage/ci37389218\n"
     ]
    }
   ],
   "source": [
    "%%bash\n",
    "head -n 2 data/earthquakes.csv"
   ]
  },
  {
   "cell_type": "code",
   "execution_count": 18,
   "id": "dead4e40",
   "metadata": {},
   "outputs": [
    {
     "data": {
      "text/plain": [
       "['06/20/2022  04:17 PM         3,524,989 earthquakes.csv']"
      ]
     },
     "execution_count": 18,
     "metadata": {},
     "output_type": "execute_result"
    }
   ],
   "source": [
    "\n",
    "files = !dir data\n",
    "[file for file in files if 'earthquake' in file]"
   ]
  },
  {
   "cell_type": "code",
   "execution_count": 1,
   "id": "7ea407f8",
   "metadata": {},
   "outputs": [],
   "source": [
    "import sqlite3"
   ]
  },
  {
   "cell_type": "code",
   "execution_count": 4,
   "id": "64572094",
   "metadata": {},
   "outputs": [
    {
     "name": "stdout",
     "output_type": "stream",
     "text": [
      "[('tsunamis',)]\n"
     ]
    }
   ],
   "source": [
    "con = sqlite3.connect('data/quakes.db')\n",
    "cursor = con.cursor()\n",
    "cursor.execute(\"SELECT name FROM sqlite_master WHERE type='table';\")\n",
    "print(cursor.fetchall())\n",
    "cursor.close()\n",
    "con.close()"
   ]
  },
  {
   "cell_type": "markdown",
   "id": "40fac14c",
   "metadata": {},
   "source": [
    "## Notes"
   ]
  },
  {
   "cell_type": "markdown",
   "id": "65eb048a",
   "metadata": {},
   "source": [
    "- DataFrames consists of numpy Series objects with an Index\n",
    "- Pandas DataFrames can be created in a variety of ways\n",
    "  - Python objects: dictionaries, list of dictionaries, tuples\n",
    "  - A file, e.g. A .csv files\n",
    "  - Database using sqlite3 \n",
    "  - API\n",
    "- General guidelines when creating a DataFrame:\n",
    "  - Inspect the DataFrame to see if data was actually loaded with `.empty` attribute\n",
    "  - Check the shape with the `.shape` attribute\n",
    "  - Inspect the contents with the `.head()` or `.tail()` method\n",
    "  - Check data types with the `.dtype` attribute\n",
    "  - Describe and summarize the data with the `.describe()` method for both the numeric and object columns\n",
    "    - object data types can be summarized with the `include='all'` or `include=np.object` options in the `.describe()` method\n",
    "    - Pg. 79 contains a list of other useful calculation methods for Series and Dataframes\n",
    "    - Pg. 81 contains a list of useful methods for the Index\n",
    "  - Other useful methods to help summarize the data include the following:\n",
    "- Subsetting the data is useful to break out data of interest for analysis\n",
    "  - Sometimes you don't need all of the data for a particular study\n",
    "  - Subsetting can be performed with both Indexing by column name or by attribute name\n",
    "    - Lists can be passed via Indexing to select multiple columns\n",
    "  - String methods are useful when working with objects\n",
    "    - `.startswith()`, `.endswith()`, `.contains()`, and `.isin()` are examples of useful string methods\n",
    "    - `.isin()` is useful when searching with a list of strings\n",
    "    - `.contains` is useful when searching for partial matches, lists can be used using the `.join()` method, e.g. `'|'.join(List)`\n",
    "- Slicing can be used to select specific rows and can be chained with subsetting\n",
    "- Indexing operations can combine subsetting and slicing\n",
    "  - `.loc[]` can be used to perform value-based lookups\n",
    "  - `.iloc[]` can be used to perform index-based lookups\n",
    "  - This can also be chained\n",
    "- Filter can be performed within indexing operations aand subsetting\n",
    "  - Combining masks require bitwise operators, e.g. &, |\n",
    "  - `.idxmin()` and `.idxmin()` methods are useful for finding the index of the maximum and miminum values\n",
    "- Sometimes data needs to be added or removed from a Dataframe, especially during the exploratory data analysis loop\n",
    "  - New columns can be created by Indexing with a new column name and assigning the data\n",
    "  - The `.assign()` method can be used to add data, but it follows different syntax, see examples\n",
    "    - Lambda functions are useful in the `.assign()` method\n",
    "  - The `.concat()` method can be used to combine Dataframes and add data\n",
    "    - An example of this workflow could be to import new data with the `.read_csv()` command and the `usecol` optional input to bring in new columns. Then the new Dataframe is concatenated with the old to add the new data. If the index is the same between the two, the columns of the new data can be appended to the old.\n",
    "    - Joins can be used to help manage the concatenation\n",
    "  - The `del` function can be used to delete columns from a Dataframe, e.g. `del df['column']`\n",
    "  - The `.pop()` method ca be used to remove the column from a Dataframe but allows a user to assign the column to a different variable, like removing a mask column created earlier to be used at a later time "
   ]
  },
  {
   "cell_type": "code",
   "execution_count": null,
   "id": "1bca1855",
   "metadata": {},
   "outputs": [],
   "source": []
  }
 ],
 "metadata": {
  "kernelspec": {
   "display_name": ".book_env",
   "language": "python",
   "name": ".book_env"
  },
  "language_info": {
   "codemirror_mode": {
    "name": "ipython",
    "version": 3
   },
   "file_extension": ".py",
   "mimetype": "text/x-python",
   "name": "python",
   "nbconvert_exporter": "python",
   "pygments_lexer": "ipython3",
   "version": "3.7.3"
  }
 },
 "nbformat": 4,
 "nbformat_minor": 5
}
