{
 "cells": [
  {
   "cell_type": "markdown",
   "id": "7e5c5926",
   "metadata": {},
   "source": [
    "## Chapter 3 Notes"
   ]
  },
  {
   "cell_type": "markdown",
   "id": "a8927880",
   "metadata": {},
   "source": [
    "- Data wrangling is taking data and turning it into something meaningful for analysis, also known as data manipulation\n",
    "  - Being clear about the steps taken during data wrangling helps prevent deception of data\n",
    "- Data wrangling can be broken down into the following:\n",
    "  - Data Cleaning\n",
    "    - Follows data importing\n",
    "    - Includes renaming, sorting, filter, converting data types, and addressing duplicates and nulls\n",
    "  - Data Transformation\n",
    "    - Conversion between wide and long form of data\n",
    "    - Wide data is good for analysis and database design\n",
    "      - Data is represented with measurements of variables as unique columns and one observation per row\n",
    "    - Long data is good for plotting and for a fixed table schema\n",
    "  - Data Enrichment\n",
    "    - Adding to data to make it more meaningful\n",
    "    - This includes adding new columns, binning, aggregation, and resampling\n",
    "- Learning how to connect and explore and API is important\n",
    "  - May need a token to access the API and knowledge of json formatting\n",
    "  - Pg. 127 to 138 provides a detailed example of a API connection process\n",
    "- Cleaning data\n",
    "  - The `columns` attribute of dataframes can be used to explore the column headers\n",
    "  - Columns can be renamed with the `rename()` method\n",
    "    - Dictionary passed to `columns` to assign names\n",
    "    - `inplace` can be passed\n",
    "    - Series and Index objects can be renamed\n",
    "    - String methods can also be passed to the `rename()` method\n",
    "  - Data types can explored using the `dtypes` attribute\n",
    "  - Date objects can be converted to datetimes using the `pd.to_datetime()` method\n",
    "    - `parse_dates = True` can be passed into a `read_csv()` call to parse all dates in a .csv files\n",
    "    - Datetimes can be truncated using the `to_period()`, which pulls year, month, day, etc. from the datetime\n",
    "  - The `assign()` method can also be used to cast a different data type\n",
    "    - lambda functions can be used in the `assign()` method and are useful in data type conversion and column generation\n",
    "  - The `astype()` method can be used to change datatype of a single column\n",
    "  - `pd.to_numeric()` will automatically convert numeric data to integer or float\n",
    "  - The category data type can be assigned to a column if there are a limited number of distinct values\n",
    "    - Pandas can pull more stats about categorical data\n",
    "  - Rows and columns can be sorted using the `sort_values()` method\n",
    "    - Row sorting can be performed with one or more columns\n",
    "    - `nlargest()` and `nsmallest()` can be used to pull a subset of sorted data\n",
    "    - Index values can be sorted with the `sort_index()` method, columns can also be sorted with this method by passing in `axis = 1`\n",
    "    - The `set_index()` method can be used to assign a column as the index, e.g. a columns with dates\n",
    "      - Slicing and indexing can be used with a datetime index\n",
    "    - The `reset_index()` method will reset the index\n",
    "    - The `reindex()` method can be used to align a dataset with an existing index\n",
    "      - Pg. 152 to 160 has an example of this with stock and bitcoin trade value analysis\n",
    "- Reshaping data\n",
    "  - The transpose `T` method can be used to transpose a dataframe\n",
    "  - The `pivot()` method is used to switch data from long to wide format\n",
    "    - The column with the values for the wide format columns and the values for these columns must be specified\n",
    "    - A new index can be set\n",
    "    - A hierarchical index can be set in columns as well\n",
    "    - When trying to transform a long dataset with a multi-level index, use the `unstack()` method instead, which also allows you to specify how to fill missing values\n",
    "  - The `melt()` method is used to switch from wide to long format\n",
    "    - The `melt()` method requires an `id_vars` input identifying the column in the wide dataset with data that uniquely represents a row and a `value_vars` input to identify the columns in the wide dataset containing the values\n",
    "    - `var_name()` and `value_name()` are optional inputs to name the variable column in the long format and the new column of values\n",
    "    - The `stack()` method is another way to transform wide data to long, pivoting columns to the inner most level of the index\n",
    "- Handling duplicate, missing, or invalid data\n",
    "  - Finding problematic data\n",
    "    - The `describe()` method can be used to explore the data for NaN's, Inf's, and invalid data\n",
    "    - The `info()` method can be used to check data types in the columns\n",
    "    - `isnull()` and `isna()` can be used to find null and NaN values, it can be also used to create Boolean filters\n",
    "      - `isna()` must be used instead of searching for a NaN value or string as NaN in python is equal to nothing\n",
    "      - inf and -inf are also equal to `np.inf` and `-np.inf` and can be addressed as such\n",
    "  - Mitigating issues\n",
    "    - While some data may see problematic, one must take care not to replace or delete it before further investigating\n",
    "      - Maybe the data present is a placeholder for a different value or the problematic data won't have an influence on the final results and can be left in\n",
    "      - Consult documentation behind the data, if available\n",
    "    - `dropna()` method will drop the rows with any null data\n",
    "    - `fillna()` is available to replace NaN's with a specific value, for instance in the event that NaN's are representative of a different value\n",
    "    - `np.nan_to_num()` function can be used to replace inf's with an actual value\n",
    "    - Another approach to filling missing data is through imputation, or filling NaN's with a value derived from the other values in the column, like the mean or median\n",
    "      - This will reduce the impact of the missing data\n",
    "    - Finally, interpolation can be used to fill missing data through the `interpolate()` and `apply()` methods"
   ]
  },
  {
   "cell_type": "code",
   "execution_count": null,
   "id": "b56bb49b",
   "metadata": {},
   "outputs": [],
   "source": []
  }
 ],
 "metadata": {
  "kernelspec": {
   "display_name": ".book_env",
   "language": "python",
   "name": ".book_env"
  },
  "language_info": {
   "codemirror_mode": {
    "name": "ipython",
    "version": 3
   },
   "file_extension": ".py",
   "mimetype": "text/x-python",
   "name": "python",
   "nbconvert_exporter": "python",
   "pygments_lexer": "ipython3",
   "version": "3.7.3"
  }
 },
 "nbformat": 4,
 "nbformat_minor": 5
}
