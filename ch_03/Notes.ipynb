{
 "cells": [
  {
   "cell_type": "markdown",
   "id": "25ff44b7",
   "metadata": {},
   "source": [
    "## Chapter 3 Notes"
   ]
  },
  {
   "cell_type": "markdown",
   "id": "f286e87e",
   "metadata": {},
   "source": [
    "- Data wrangling is taking data and turning it into something meaningful for analysis, also known as data manipulation\n",
    "  - Being clear about the steps taken during data wrangling helps prevent deception of data\n",
    "- Data wrangling can be broken down into the following:\n",
    "  - Data Cleaning\n",
    "    - Follows data importing\n",
    "    - Includes renaming, sorting, filter, converting data types, and addressing duplicates and nulls\n",
    "  - Data Transformation\n",
    "    - Conversion between wide and long form of data\n",
    "    - Wide data is good for analysis and database design\n",
    "      - Data is represented with measurements of variables as unique columns and one observation per row\n",
    "    - Long data is good for plotting and for a fixed table schema\n",
    "  - Data Enrichment\n",
    "    - Adding to data to make it more meaningful\n",
    "    - This includes adding new columns, binning, aggregation, and resampling\n",
    "- "
   ]
  },
  {
   "cell_type": "code",
   "execution_count": null,
   "id": "a8d48033",
   "metadata": {},
   "outputs": [],
   "source": []
  }
 ],
 "metadata": {
  "kernelspec": {
   "display_name": ".book_env",
   "language": "python",
   "name": ".book_env"
  },
  "language_info": {
   "codemirror_mode": {
    "name": "ipython",
    "version": 3
   },
   "file_extension": ".py",
   "mimetype": "text/x-python",
   "name": "python",
   "nbconvert_exporter": "python",
   "pygments_lexer": "ipython3",
   "version": "3.7.3"
  }
 },
 "nbformat": 4,
 "nbformat_minor": 5
}
