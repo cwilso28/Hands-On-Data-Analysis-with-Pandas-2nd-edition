{
 "cells": [
  {
   "cell_type": "markdown",
   "id": "99e281f6",
   "metadata": {},
   "source": [
    "### Notes:  \n",
    "- "
   ]
  },
  {
   "cell_type": "markdown",
   "id": "57790c67",
   "metadata": {},
   "source": [
    "### Exercises:  \n",
    "Q2: Not all data is a normally distributed. For instance, a coin flip of a balanced coin will produce a uniform distribution. Another instance of a non-normal distribution would be income of the global population where there are significantly more people making relatively lower incomes, this would be a skewed distribution.\n",
    "\n",
    "Q3: When would it make more sense to use the median instead of mean for the measure of center?\n",
    "    Median is useful for the measure of center when there are large outliers present in the data."
   ]
  },
  {
   "cell_type": "code",
   "execution_count": null,
   "id": "7d5e44b3",
   "metadata": {},
   "outputs": [],
   "source": []
  }
 ],
 "metadata": {
  "kernelspec": {
   "display_name": "Python 3 (ipykernel)",
   "language": "python",
   "name": "python3"
  },
  "language_info": {
   "codemirror_mode": {
    "name": "ipython",
    "version": 3
   },
   "file_extension": ".py",
   "mimetype": "text/x-python",
   "name": "python",
   "nbconvert_exporter": "python",
   "pygments_lexer": "ipython3",
   "version": "3.7.3"
  }
 },
 "nbformat": 4,
 "nbformat_minor": 5
}
