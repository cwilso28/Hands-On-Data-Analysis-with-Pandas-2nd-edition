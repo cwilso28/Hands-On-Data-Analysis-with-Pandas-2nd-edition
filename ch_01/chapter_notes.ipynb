{
 "cells": [
  {
   "cell_type": "markdown",
   "id": "f462cc55",
   "metadata": {},
   "source": [
    "### Notes:  \n",
    "- Forking and cloning a repository creates a copy of the repository in your profile and cloning will add the files to your local machine. This lets you push back up to a server side repository.\n",
    "- `virtualenv` was used instead of `venv` to create the virtual environment. `virtualenv` lets a user specify the version of python they want to use in the virtual environment. This came up due to incompatibility with `numpy` 1.19.4 and `python` 3.10.4, which is what is currently installed on my machine.\n",
    "- Data analysis is iterative\n",
    "- Identifying errors in data is important. Issues may come from human errors, computer error, unexpected values, incomplete information, resolution, relavance of the fields, format of the data, and misconfigurations of the data-recording process\n",
    "  - Without additional information on how to handle these errors, keeping a log of the errors found and how they could be fixed in the future is useful.\n",
    "- Exploratory data analysis (EDA) is the process of creating intial visualizations and statistics to learn more about the data.\n",
    "- Means are sensitive to outliers, use median if large outliers are present.\n",
    "- Coefficient of variance can be used to measure volatility in data.\n",
    "- Quartiles are useful to learn about how data is distributed. Histograms and probability density functions are other ways to find distribution of discrete and continuous variables, respectively.\n",
    "- Correlation coeffience can be used to quantify the relationship between to variables, does not imply causation."
   ]
  },
  {
   "cell_type": "markdown",
   "id": "3c27c9a5",
   "metadata": {},
   "source": [
    "### Exercises:  \n",
    "Q2: Not all data is a normally distributed. For instance, a coin flip of a balanced coin will produce a uniform distribution. Another instance of a non-normal distribution would be income of the global population where there are significantly more people making relatively lower incomes, this would be a skewed distribution.\n",
    "\n",
    "Q3: When would it make more sense to use the median instead of mean for the measure of center?\n",
    "    Median is useful for the measure of center when there are large outliers present in the data."
   ]
  },
  {
   "cell_type": "code",
   "execution_count": null,
   "id": "fbbfc3c3",
   "metadata": {},
   "outputs": [],
   "source": []
  }
 ],
 "metadata": {
  "kernelspec": {
   "display_name": "Python 3 (ipykernel)",
   "language": "python",
   "name": "python3"
  },
  "language_info": {
   "codemirror_mode": {
    "name": "ipython",
    "version": 3
   },
   "file_extension": ".py",
   "mimetype": "text/x-python",
   "name": "python",
   "nbconvert_exporter": "python",
   "pygments_lexer": "ipython3",
   "version": "3.7.3"
  }
 },
 "nbformat": 4,
 "nbformat_minor": 5
}
